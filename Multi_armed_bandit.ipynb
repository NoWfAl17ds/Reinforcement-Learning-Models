{
  "nbformat": 4,
  "nbformat_minor": 0,
  "metadata": {
    "colab": {
      "provenance": [],
      "toc_visible": true,
      "authorship_tag": "ABX9TyP0pVyy0bRTKRcz6oj7hIpH",
      "include_colab_link": true
    },
    "kernelspec": {
      "name": "python3",
      "display_name": "Python 3"
    },
    "language_info": {
      "name": "python"
    }
  },
  "cells": [
    {
      "cell_type": "markdown",
      "metadata": {
        "id": "view-in-github",
        "colab_type": "text"
      },
      "source": [
        "<a href=\"https://colab.research.google.com/github/NoWfAl17ds/Reinforcement-Learning-Models/blob/main/Multi_armed_bandit.ipynb\" target=\"_parent\"><img src=\"https://colab.research.google.com/assets/colab-badge.svg\" alt=\"Open In Colab\"/></a>"
      ]
    },
    {
      "cell_type": "code",
      "execution_count": null,
      "metadata": {
        "id": "VmHgd-CAr__H",
        "colab": {
          "base_uri": "https://localhost:8080/"
        },
        "outputId": "be22019e-8b3e-4072-c96a-b14ebe143eb1"
      },
      "outputs": [
        {
          "output_type": "stream",
          "name": "stdout",
          "text": [
            "Arm 1: Total Reward = 21, Average Reward = 0.021\n",
            "Arm 2: Total Reward = 7, Average Reward = 0.007\n",
            "Arm 3: Total Reward = 13, Average Reward = 0.013\n",
            "Arm 4: Total Reward = 654, Average Reward = 0.654\n",
            "Arm 5: Total Reward = 2, Average Reward = 0.002\n"
          ]
        }
      ],
      "source": [
        "import numpy as np\n",
        "import random\n",
        "\n",
        "class Bandit:\n",
        "    def __init__(self, arms, probabilities):\n",
        "        self.arms = arms\n",
        "        self.probabilities = probabilities\n",
        "\n",
        "    def pull_arm(self, arm):\n",
        "        return np.random.choice([0, 1], p=[1 - self.probabilities[arm], self.probabilities[arm]])\n",
        "\n",
        "def epsilon_greedy(bandit, epsilon, num_pulls):\n",
        "    num_arms = len(bandit.arms)\n",
        "    total_rewards = [0] * num_arms\n",
        "    num_pulls_each_arm = [0] * num_arms\n",
        "\n",
        "    for _ in range(num_pulls):\n",
        "        if random.random() < epsilon:\n",
        "            arm = random.randint(0, num_arms - 1)\n",
        "        else:\n",
        "            arm = np.argmax([reward / (num_pulls_each_arm[i] + 1e-6) for i, reward in enumerate(total_rewards)])\n",
        "\n",
        "        reward = bandit.pull_arm(arm)\n",
        "        total_rewards[arm] += reward\n",
        "        num_pulls_each_arm[arm] += 1\n",
        "\n",
        "    return total_rewards\n",
        "\n",
        "\n",
        "arms = [\"NO 1\", \"NO 2\", \"NO 3\", \"NO 4\", \"NO 5\"]\n",
        "probabilities = [0.2, 0.4, 0.6, 0.8, 0.10]\n",
        "bandit = Bandit(arms, probabilities)\n",
        "\n",
        "\n",
        "epsilon = 0.10\n",
        "num_pulls = 1000\n",
        "\n",
        "total_rewards = epsilon_greedy(bandit, epsilon, num_pulls)\n",
        "\n",
        "\n",
        "for i, arm in enumerate(arms):\n",
        "    print(f\"Arm {i+1}: Total Reward = {total_rewards[i]}, Average Reward = {total_rewards[i] / num_pulls}\")\n"
      ]
    }
  ]
}